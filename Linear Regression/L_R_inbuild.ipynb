{
 "cells": [
  {
   "cell_type": "code",
   "execution_count": 2,
   "id": "79a92778",
   "metadata": {},
   "outputs": [],
   "source": [
    "import numpy as np\n",
    "import pandas as pd\n",
    "import plotly.express as px\n",
    "from sklearn.linear_model import LinearRegression\n",
    "import plotly.graph_objects as go\n",
    "\n",
    "lr=LinearRegression()\n",
    "df=pd.read_csv(\"FuelConsumption.csv\")"
   ]
  },
  {
   "cell_type": "code",
   "execution_count": 13,
   "id": "28030623",
   "metadata": {},
   "outputs": [],
   "source": [
    "X=df[\"ENGINESIZE\"]\n",
    "Y=df[\"CO2EMISSIONS\"]\n",
    "\n",
    "X_avg=X.mean()\n",
    "Y_avg=Y.mean()\n",
    "Sum=0\n",
    "sum_y=0\n",
    "Square_x=0\n",
    "for i in range(len(X)):\n",
    "    Sum+=(X[i]-X_avg)*(Y[i]-Y_avg)\n",
    "    Square_x+=(X[i]-X_avg)*(X[i]-X_avg)\n",
    "w=(Sum)/Square_x\n",
    "b=(Y_avg-(w*X_avg))\n",
    "\n",
    "df[\"Y_PREDICT\"]=np.zeros(len(X))\n",
    "df[\"Y_PREDICT\"]=(w*X)+b"
   ]
  },
  {
   "cell_type": "code",
   "execution_count": 17,
   "id": "2ab4b45f",
   "metadata": {},
   "outputs": [
    {
     "name": "stdout",
     "output_type": "stream",
     "text": [
      "weight/slope [39.12519979]\n",
      "Bies/Intercept 125.30409949535732\n"
     ]
    }
   ],
   "source": [
    "\n",
    "X=df[\"ENGINESIZE\"]\n",
    "y=df[\"Y_PREDICT\"]\n",
    "x_2d=np.array(X).reshape(-1,1)\n",
    "lr.fit(x_2d,y)\n",
    "print(\"weight/slope\",lr.coef_) \n",
    "print(\"Bies/Intercept\",lr.intercept_)"
   ]
  },
  {
   "cell_type": "code",
   "execution_count": 18,
   "id": "014e0035",
   "metadata": {},
   "outputs": [
    {
     "name": "stdout",
     "output_type": "stream",
     "text": [
      "weight/slope [19.49628353  9.72995852]\n",
      "Bies/Intercept 78.30681185681965\n"
     ]
    }
   ],
   "source": [
    "feature=['ENGINESIZE', 'FUELCONSUMPTION_COMB']\n",
    "x=df[feature]\n",
    "Y=df[\"CO2EMISSIONS\"]\n",
    "lr.fit(x, Y) \n",
    "print(\"weight/slope\",lr.coef_) \n",
    "print(\"Bies/Intercept\",lr.intercept_)"
   ]
  },
  {
   "cell_type": "code",
   "execution_count": null,
   "id": "7b183433",
   "metadata": {},
   "outputs": [],
   "source": [
    "px.scatter(df,x=\"ENGINESIZE\",y=\"CO2EMISSIONS\"z='FUELCONSUMPTION_COMB')\n",
    "# px.line(df,x=\"ENGINESIZE\",y=\"Y_PREDICT\")\n",
    "fig=go.Figure()\n",
    "fig.add_trace(go.Scatter(x=X, y=Y,\n",
    "                    mode='markers',\n",
    "                    name='markers'))\n",
    "fig.add_trace(go.Scatter(x=X, y=df[\"Y_PREDICT\"],\n",
    "                    mode='lines+markers',\n",
    "                    name='markers'))\n",
    "fig.show()"
   ]
  }
 ],
 "metadata": {
  "kernelspec": {
   "display_name": "Python 3 (ipykernel)",
   "language": "python",
   "name": "python3"
  },
  "language_info": {
   "codemirror_mode": {
    "name": "ipython",
    "version": 3
   },
   "file_extension": ".py",
   "mimetype": "text/x-python",
   "name": "python",
   "nbconvert_exporter": "python",
   "pygments_lexer": "ipython3",
   "version": "3.11.1"
  }
 },
 "nbformat": 4,
 "nbformat_minor": 5
}
